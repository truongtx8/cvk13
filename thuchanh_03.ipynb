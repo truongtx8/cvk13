{
 "cells": [
  {
   "cell_type": "code",
   "execution_count": 11,
   "metadata": {},
   "outputs": [],
   "source": [
    "from mtcnn.mtcnn import MTCNN\n",
    "import cv2\n",
    "import matplotlib.pyplot as plt\n",
    "import json\n",
    "\n",
    "img = cv2.imread(\"totnghiep2017.jpg\")\n",
    "detector = MTCNN()\n",
    "\n",
    "columns = 4\n",
    "rows = 5\n",
    "\n",
    "result = detector.detect_faces(img)\n",
    "\n",
    "for i in result:\n",
    "    #print (i['box'])\n",
    "    for (x, y, w, h) in [i['box']]:\n",
    "        \n",
    "        # Save a face region\n",
    "        img_face = img[y:y+h, x:x+w]\n",
    "        cv2.imwrite(str(x) + \".jpg\", img_face)\n",
    "        \n",
    "        # Draw regtangle on faces\n",
    "        cv2.rectangle(img, (x,y), (x+w, y+h), (0, 255, 0), 2)"
   ]
  }
 ],
 "metadata": {
  "kernelspec": {
   "display_name": "Python 3",
   "language": "python",
   "name": "python3"
  },
  "language_info": {
   "codemirror_mode": {
    "name": "ipython",
    "version": 3
   },
   "file_extension": ".py",
   "mimetype": "text/x-python",
   "name": "python",
   "nbconvert_exporter": "python",
   "pygments_lexer": "ipython3",
   "version": "3.5.6"
  }
 },
 "nbformat": 4,
 "nbformat_minor": 2
}
